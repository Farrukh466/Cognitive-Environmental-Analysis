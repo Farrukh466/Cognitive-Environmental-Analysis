{
 "cells": [
  {
   "cell_type": "markdown",
   "metadata": {},
   "source": [
    "# Data Modelling - Student Grade Prediction"
   ]
  },
  {
   "cell_type": "markdown",
   "metadata": {},
   "source": [
    "#### Group Members\n",
    "#### Wahaj Raza CS-21055\n",
    "#### Farrukh Niaz CS-21064\n",
    "#### Huzaifa Naseer Khan CS-21067"
   ]
  },
  {
   "cell_type": "markdown",
   "metadata": {
    "vscode": {
     "languageId": "plaintext"
    }
   },
   "source": [
    "#### Import libraries"
   ]
  },
  {
   "cell_type": "code",
   "execution_count": 7,
   "metadata": {},
   "outputs": [
    {
     "data": {
      "text/plain": [
       "<contextlib._GeneratorContextManager at 0x23e15a90890>"
      ]
     },
     "execution_count": 7,
     "metadata": {},
     "output_type": "execute_result"
    }
   ],
   "source": [
    "import sys\n",
    "import scipy\n",
    "import numpy\n",
    "import pandas\n",
    "import random\n",
    "\n",
    "import os\n",
    "import numpy as np\n",
    "import pandas as pd\n",
    "import matplotlib.pyplot as plt\n",
    "import seaborn as sns\n",
    "from datetime import datetime\n",
    "import itertools\n",
    "import datetime\n",
    "import matplotlib.cm as cm\n",
    "import matplotlib.dates as mdates\n",
    "import matplotlib.ticker as ticker\n",
    "get_ipython().run_line_magic('matplotlib', 'inline')\n",
    "\n",
    "from IPython.core.interactiveshell import InteractiveShell\n",
    "InteractiveShell.ast_node_interactivity = \"all\"\n",
    "from sklearn import model_selection, preprocessing, linear_model\n",
    "from sklearn import neighbors\n",
    "from sklearn import ensemble\n",
    "from sklearn import svm\n",
    "from sklearn import metrics\n",
    "\n",
    "import warnings\n",
    "warnings.simplefilter(action='ignore', category=FutureWarning)\n",
    "\n",
    "pd.set_option('display.max_rows', 500)\n",
    "pd.set_option('display.max_columns', 500)\n",
    "pd.set_option('display.width', 1000)\n",
    "\n",
    "# Stats\n",
    "from scipy.stats import skew, norm\n",
    "from scipy.special import boxcox1p\n",
    "from scipy.stats import boxcox_normmax\n",
    "\n",
    "# Misc\n",
    "from sklearn.model_selection import GridSearchCV\n",
    "from sklearn.model_selection import KFold, cross_val_score\n",
    "\n",
    "pd.set_option('display.max_columns', None)\n",
    "\n",
    "# Ignore useless warnings\n",
    "import warnings\n",
    "warnings.filterwarnings(action=\"ignore\")\n",
    "pd.options.display.max_seq_items = 8000\n",
    "pd.options.display.max_rows = 8000\n",
    "\n",
    "## Plot Styling and Configurations\n",
    "plt.style.context('seaborn-talk')\n",
    "plt.style.use('fivethirtyeight')\n",
    "params = {'legend.fontsize': '16',\n",
    "          'figure.figsize': (15, 5),\n",
    "         'axes.labelsize': '20',\n",
    "         'axes.titlesize':'30',\n",
    "         'xtick.labelsize':'15',\n",
    "         'ytick.labelsize':'15'}\n",
    "plt.rcParams.update(params)\n",
    "plt.rcParams['text.color'] = '#A04000'\n",
    "plt.rcParams['xtick.color'] = '#283747'\n",
    "plt.rcParams['ytick.color'] = '#808000'\n",
    "plt.rcParams['axes.labelcolor'] = '#283747'"
   ]
  },
  {
   "cell_type": "code",
   "execution_count": 8,
   "metadata": {},
   "outputs": [
    {
     "data": {
      "text/html": [
       "<div>\n",
       "<style scoped>\n",
       "    .dataframe tbody tr th:only-of-type {\n",
       "        vertical-align: middle;\n",
       "    }\n",
       "\n",
       "    .dataframe tbody tr th {\n",
       "        vertical-align: top;\n",
       "    }\n",
       "\n",
       "    .dataframe thead th {\n",
       "        text-align: right;\n",
       "    }\n",
       "</style>\n",
       "<table border=\"1\" class=\"dataframe\">\n",
       "  <thead>\n",
       "    <tr style=\"text-align: right;\">\n",
       "      <th></th>\n",
       "      <th>Gender</th>\n",
       "      <th>Nationality</th>\n",
       "      <th>Class Level</th>\n",
       "      <th>Age</th>\n",
       "      <th>School Type</th>\n",
       "      <th>Main Administration</th>\n",
       "      <th>Candidacy type</th>\n",
       "      <th>Degree</th>\n",
       "    </tr>\n",
       "  </thead>\n",
       "  <tbody>\n",
       "    <tr>\n",
       "      <th>0</th>\n",
       "      <td>female</td>\n",
       "      <td>Saudi</td>\n",
       "      <td>3</td>\n",
       "      <td>21</td>\n",
       "      <td>Governmental</td>\n",
       "      <td>Riyadh</td>\n",
       "      <td>Self-Candidacy</td>\n",
       "      <td>593</td>\n",
       "    </tr>\n",
       "    <tr>\n",
       "      <th>1</th>\n",
       "      <td>male</td>\n",
       "      <td>Saudi</td>\n",
       "      <td>3</td>\n",
       "      <td>20</td>\n",
       "      <td>Governmental</td>\n",
       "      <td>Unknown</td>\n",
       "      <td>Self-Candidacy</td>\n",
       "      <td>600</td>\n",
       "    </tr>\n",
       "    <tr>\n",
       "      <th>2</th>\n",
       "      <td>female</td>\n",
       "      <td>Saudi</td>\n",
       "      <td>3</td>\n",
       "      <td>19</td>\n",
       "      <td>Governmental</td>\n",
       "      <td>Aseer</td>\n",
       "      <td>Self-Candidacy</td>\n",
       "      <td>640</td>\n",
       "    </tr>\n",
       "    <tr>\n",
       "      <th>3</th>\n",
       "      <td>male</td>\n",
       "      <td>Saudi</td>\n",
       "      <td>3</td>\n",
       "      <td>19</td>\n",
       "      <td>Governmental</td>\n",
       "      <td>Jazan</td>\n",
       "      <td>Self-Candidacy</td>\n",
       "      <td>600</td>\n",
       "    </tr>\n",
       "    <tr>\n",
       "      <th>4</th>\n",
       "      <td>female</td>\n",
       "      <td>Saudi</td>\n",
       "      <td>3</td>\n",
       "      <td>19</td>\n",
       "      <td>Governmental</td>\n",
       "      <td>Eastern</td>\n",
       "      <td>Talented-Candidacy</td>\n",
       "      <td>713</td>\n",
       "    </tr>\n",
       "  </tbody>\n",
       "</table>\n",
       "</div>"
      ],
      "text/plain": [
       "   Gender Nationality  Class Level  Age   School Type Main Administration      Candidacy type  Degree\n",
       "0  female       Saudi            3   21  Governmental              Riyadh      Self-Candidacy     593\n",
       "1    male       Saudi            3   20  Governmental             Unknown      Self-Candidacy     600\n",
       "2  female       Saudi            3   19  Governmental               Aseer      Self-Candidacy     640\n",
       "3    male       Saudi            3   19  Governmental               Jazan      Self-Candidacy     600\n",
       "4  female       Saudi            3   19  Governmental             Eastern  Talented-Candidacy     713"
      ]
     },
     "execution_count": 8,
     "metadata": {},
     "output_type": "execute_result"
    }
   ],
   "source": [
    "df = pd.read_csv('Data.csv')\n",
    "df.head()"
   ]
  },
  {
   "cell_type": "code",
   "execution_count": 9,
   "metadata": {},
   "outputs": [
    {
     "name": "stdout",
     "output_type": "stream",
     "text": [
      "<class 'pandas.core.frame.DataFrame'>\n",
      "RangeIndex: 38930 entries, 0 to 38929\n",
      "Data columns (total 8 columns):\n",
      " #   Column               Non-Null Count  Dtype \n",
      "---  ------               --------------  ----- \n",
      " 0   Gender               38930 non-null  object\n",
      " 1   Nationality          38930 non-null  object\n",
      " 2   Class Level          38930 non-null  int64 \n",
      " 3   Age                  38930 non-null  int64 \n",
      " 4   School Type          38930 non-null  object\n",
      " 5   Main Administration  38930 non-null  object\n",
      " 6   Candidacy type       38930 non-null  object\n",
      " 7   Degree               38930 non-null  int64 \n",
      "dtypes: int64(3), object(5)\n",
      "memory usage: 2.4+ MB\n"
     ]
    }
   ],
   "source": [
    "df.info()"
   ]
  },
  {
   "cell_type": "code",
   "execution_count": 10,
   "metadata": {},
   "outputs": [
    {
     "data": {
      "text/plain": [
       "['Class Level', 'Age', 'Degree']"
      ]
     },
     "execution_count": 10,
     "metadata": {},
     "output_type": "execute_result"
    },
    {
     "data": {
      "text/plain": [
       "['Gender',\n",
       " 'Nationality',\n",
       " 'School Type',\n",
       " 'Main Administration',\n",
       " 'Candidacy type']"
      ]
     },
     "execution_count": 10,
     "metadata": {},
     "output_type": "execute_result"
    }
   ],
   "source": [
    "### numerical \n",
    "numerical_cols = list(df.select_dtypes(exclude=['object']))\n",
    "numerical_cols\n",
    "\n",
    "### categorical\n",
    "category_cols = list(df.select_dtypes(include=['object']))\n",
    "category_cols"
   ]
  },
  {
   "cell_type": "markdown",
   "metadata": {},
   "source": [
    "### List of Categorical Columns"
   ]
  },
  {
   "cell_type": "code",
   "execution_count": 11,
   "metadata": {},
   "outputs": [
    {
     "data": {
      "image/png": "[encoded data removed]",
      "text/plain": [
       "<Figure size 1700x500 with 1 Axes>"
      ]
     },
     "metadata": {},
     "output_type": "display_data"
    },
    {
     "data": {
      "image/png": "[encoded data removed]",
      "text/plain": [
       "<Figure size 1700x500 with 1 Axes>"
      ]
     },
     "metadata": {},
     "output_type": "display_data"
    },
    {
     "data": {
      "image/png": "[encoded data removed]",
      "text/plain": [
       "<Figure size 1700x500 with 1 Axes>"
      ]
     },
     "metadata": {},
     "output_type": "display_data"
    },
    {
     "data": {
      "image/png": "[encoded data removed]",
      "text/plain": [
       "<Figure size 1700x500 with 1 Axes>"
      ]
     },
     "metadata": {},
     "output_type": "display_data"
    },
    {
     "data": {
      "image/png": "[encoded data removed]",
      "text/plain": [
       "<Figure size 1700x500 with 1 Axes>"
      ]
     },
     "metadata": {},
     "output_type": "display_data"
    }
   ],
   "source": [
    "for col in category_cols:\n",
    "    plt.figure(figsize=(17,5))\n",
    "    sns.barplot(df[col].value_counts().values)\n",
    "    plt.title(col)\n",
    "    plt.tight_layout()\n",
    "    plt.show();\n",
    "    \n",
    "plt.show();"
   ]
  },
  {
   "cell_type": "markdown",
   "metadata": {},
   "source": [
    "### Function to generate model report and plot auc_roc curve"
   ]
  },
  {
   "cell_type": "code",
   "execution_count": 12,
   "metadata": {},
   "outputs": [],
   "source": [
    "def generate_auc_roc_curve(clf, X_test):\n",
    "    y_pred_proba = clf.predict_proba(X_test)[:, 1]\n",
    "    fpr, tpr, thresholds = roc_curve(Y_test,  y_pred_proba)\n",
    "    auc = roc_auc_score(Y_test, y_pred_proba)\n",
    "    plt.plot(fpr,tpr,label=\"AUC ROC Curve with Area Under the curve =\"+str(auc))\n",
    "    plt.plot([0, 1], [0, 1], linestyle='--')\n",
    "    plt.legend(loc=4)\n",
    "    plt.show()\n",
    "    pass\n",
    "\n",
    "def generate_model_report(y_actual, y_predicted):\n",
    "    print(\"Accuracy = \" , accuracy_score(y_actual, y_predicted))\n",
    "    print(\"Precision = \" ,precision_score(y_actual, y_predicted))\n",
    "    print(\"Recall = \" ,recall_score(y_actual, y_predicted))\n",
    "    print(\"F1 Score = \" ,f1_score(y_actual, y_predicted))\n",
    "    pass"
   ]
  },
  {
   "cell_type": "code",
   "execution_count": 13,
   "metadata": {},
   "outputs": [
    {
     "data": {
      "text/html": [
       "<div>\n",
       "<style scoped>\n",
       "    .dataframe tbody tr th:only-of-type {\n",
       "        vertical-align: middle;\n",
       "    }\n",
       "\n",
       "    .dataframe tbody tr th {\n",
       "        vertical-align: top;\n",
       "    }\n",
       "\n",
       "    .dataframe thead th {\n",
       "        text-align: right;\n",
       "    }\n",
       "</style>\n",
       "<table border=\"1\" class=\"dataframe\">\n",
       "  <thead>\n",
       "    <tr style=\"text-align: right;\">\n",
       "      <th></th>\n",
       "      <th>Gender</th>\n",
       "      <th>Nationality</th>\n",
       "      <th>Class Level</th>\n",
       "      <th>Age</th>\n",
       "      <th>School Type</th>\n",
       "      <th>Main Administration</th>\n",
       "      <th>Candidacy type</th>\n",
       "      <th>Degree</th>\n",
       "    </tr>\n",
       "  </thead>\n",
       "  <tbody>\n",
       "    <tr>\n",
       "      <th>0</th>\n",
       "      <td>female</td>\n",
       "      <td>Saudi</td>\n",
       "      <td>3</td>\n",
       "      <td>21</td>\n",
       "      <td>Governmental</td>\n",
       "      <td>Riyadh</td>\n",
       "      <td>Self-Candidacy</td>\n",
       "      <td>593</td>\n",
       "    </tr>\n",
       "    <tr>\n",
       "      <th>1</th>\n",
       "      <td>male</td>\n",
       "      <td>Saudi</td>\n",
       "      <td>3</td>\n",
       "      <td>20</td>\n",
       "      <td>Governmental</td>\n",
       "      <td>Unknown</td>\n",
       "      <td>Self-Candidacy</td>\n",
       "      <td>600</td>\n",
       "    </tr>\n",
       "    <tr>\n",
       "      <th>2</th>\n",
       "      <td>female</td>\n",
       "      <td>Saudi</td>\n",
       "      <td>3</td>\n",
       "      <td>19</td>\n",
       "      <td>Governmental</td>\n",
       "      <td>Aseer</td>\n",
       "      <td>Self-Candidacy</td>\n",
       "      <td>640</td>\n",
       "    </tr>\n",
       "    <tr>\n",
       "      <th>3</th>\n",
       "      <td>male</td>\n",
       "      <td>Saudi</td>\n",
       "      <td>3</td>\n",
       "      <td>19</td>\n",
       "      <td>Governmental</td>\n",
       "      <td>Jazan</td>\n",
       "      <td>Self-Candidacy</td>\n",
       "      <td>600</td>\n",
       "    </tr>\n",
       "    <tr>\n",
       "      <th>4</th>\n",
       "      <td>female</td>\n",
       "      <td>Saudi</td>\n",
       "      <td>3</td>\n",
       "      <td>19</td>\n",
       "      <td>Governmental</td>\n",
       "      <td>Eastern</td>\n",
       "      <td>Talented-Candidacy</td>\n",
       "      <td>713</td>\n",
       "    </tr>\n",
       "  </tbody>\n",
       "</table>\n",
       "</div>"
      ],
      "text/plain": [
       "   Gender Nationality  Class Level  Age   School Type Main Administration      Candidacy type  Degree\n",
       "0  female       Saudi            3   21  Governmental              Riyadh      Self-Candidacy     593\n",
       "1    male       Saudi            3   20  Governmental             Unknown      Self-Candidacy     600\n",
       "2  female       Saudi            3   19  Governmental               Aseer      Self-Candidacy     640\n",
       "3    male       Saudi            3   19  Governmental               Jazan      Self-Candidacy     600\n",
       "4  female       Saudi            3   19  Governmental             Eastern  Talented-Candidacy     713"
      ]
     },
     "execution_count": 13,
     "metadata": {},
     "output_type": "execute_result"
    }
   ],
   "source": [
    "df.head()"
   ]
  },
  {
   "cell_type": "markdown",
   "metadata": {},
   "source": [
    "# Data Engineering"
   ]
  },
  {
   "cell_type": "code",
   "execution_count": 14,
   "metadata": {},
   "outputs": [
    {
     "name": "stdout",
     "output_type": "stream",
     "text": [
      "<class 'pandas.core.frame.DataFrame'>\n",
      "RangeIndex: 38930 entries, 0 to 38929\n",
      "Data columns (total 8 columns):\n",
      " #   Column               Non-Null Count  Dtype \n",
      "---  ------               --------------  ----- \n",
      " 0   Gender               38930 non-null  object\n",
      " 1   Nationality          38930 non-null  object\n",
      " 2   Class Level          38930 non-null  int64 \n",
      " 3   Age                  38930 non-null  int64 \n",
      " 4   School Type          38930 non-null  object\n",
      " 5   Main Administration  38930 non-null  object\n",
      " 6   Candidacy type       38930 non-null  object\n",
      " 7   Degree               38930 non-null  int64 \n",
      "dtypes: int64(3), object(5)\n",
      "memory usage: 2.4+ MB\n"
     ]
    }
   ],
   "source": [
    "df.info()"
   ]
  },
  {
   "cell_type": "code",
   "execution_count": 15,
   "metadata": {},
   "outputs": [
    {
     "data": {
      "text/html": [
       "<div>\n",
       "<style scoped>\n",
       "    .dataframe tbody tr th:only-of-type {\n",
       "        vertical-align: middle;\n",
       "    }\n",
       "\n",
       "    .dataframe tbody tr th {\n",
       "        vertical-align: top;\n",
       "    }\n",
       "\n",
       "    .dataframe thead th {\n",
       "        text-align: right;\n",
       "    }\n",
       "</style>\n",
       "<table border=\"1\" class=\"dataframe\">\n",
       "  <thead>\n",
       "    <tr style=\"text-align: right;\">\n",
       "      <th></th>\n",
       "      <th>Gender</th>\n",
       "      <th>Nationality</th>\n",
       "      <th>Class Level</th>\n",
       "      <th>Age</th>\n",
       "      <th>School Type</th>\n",
       "      <th>Main Administration</th>\n",
       "      <th>Candidacy type</th>\n",
       "      <th>Degree</th>\n",
       "    </tr>\n",
       "  </thead>\n",
       "  <tbody>\n",
       "    <tr>\n",
       "      <th>0</th>\n",
       "      <td>female</td>\n",
       "      <td>Saudi</td>\n",
       "      <td>3</td>\n",
       "      <td>21</td>\n",
       "      <td>Governmental</td>\n",
       "      <td>Riyadh</td>\n",
       "      <td>Self-Candidacy</td>\n",
       "      <td>593</td>\n",
       "    </tr>\n",
       "    <tr>\n",
       "      <th>1</th>\n",
       "      <td>male</td>\n",
       "      <td>Saudi</td>\n",
       "      <td>3</td>\n",
       "      <td>20</td>\n",
       "      <td>Governmental</td>\n",
       "      <td>Unknown</td>\n",
       "      <td>Self-Candidacy</td>\n",
       "      <td>600</td>\n",
       "    </tr>\n",
       "    <tr>\n",
       "      <th>2</th>\n",
       "      <td>female</td>\n",
       "      <td>Saudi</td>\n",
       "      <td>3</td>\n",
       "      <td>19</td>\n",
       "      <td>Governmental</td>\n",
       "      <td>Aseer</td>\n",
       "      <td>Self-Candidacy</td>\n",
       "      <td>640</td>\n",
       "    </tr>\n",
       "    <tr>\n",
       "      <th>3</th>\n",
       "      <td>male</td>\n",
       "      <td>Saudi</td>\n",
       "      <td>3</td>\n",
       "      <td>19</td>\n",
       "      <td>Governmental</td>\n",
       "      <td>Jazan</td>\n",
       "      <td>Self-Candidacy</td>\n",
       "      <td>600</td>\n",
       "    </tr>\n",
       "    <tr>\n",
       "      <th>4</th>\n",
       "      <td>female</td>\n",
       "      <td>Saudi</td>\n",
       "      <td>3</td>\n",
       "      <td>19</td>\n",
       "      <td>Governmental</td>\n",
       "      <td>Eastern</td>\n",
       "      <td>Talented-Candidacy</td>\n",
       "      <td>713</td>\n",
       "    </tr>\n",
       "  </tbody>\n",
       "</table>\n",
       "</div>"
      ],
      "text/plain": [
       "   Gender Nationality  Class Level  Age   School Type Main Administration      Candidacy type  Degree\n",
       "0  female       Saudi            3   21  Governmental              Riyadh      Self-Candidacy     593\n",
       "1    male       Saudi            3   20  Governmental             Unknown      Self-Candidacy     600\n",
       "2  female       Saudi            3   19  Governmental               Aseer      Self-Candidacy     640\n",
       "3    male       Saudi            3   19  Governmental               Jazan      Self-Candidacy     600\n",
       "4  female       Saudi            3   19  Governmental             Eastern  Talented-Candidacy     713"
      ]
     },
     "execution_count": 15,
     "metadata": {},
     "output_type": "execute_result"
    }
   ],
   "source": [
    "df.head()"
   ]
  },
  {
   "cell_type": "code",
   "execution_count": 16,
   "metadata": {},
   "outputs": [
    {
     "data": {
      "text/plain": [
       "count    38930.000000\n",
       "mean       624.936476\n",
       "std         76.615761\n",
       "min        167.000000\n",
       "25%        587.000000\n",
       "50%        633.000000\n",
       "75%        680.000000\n",
       "max        833.000000\n",
       "Name: Degree, dtype: float64"
      ]
     },
     "execution_count": 16,
     "metadata": {},
     "output_type": "execute_result"
    }
   ],
   "source": [
    "df['Degree'].describe()"
   ]
  },
  {
   "cell_type": "code",
   "execution_count": 17,
   "metadata": {},
   "outputs": [],
   "source": [
    "df['Pass/Fail'] = np.where(df['Degree'] >= 600, 1, 0)"
   ]
  },
  {
   "cell_type": "code",
   "execution_count": 18,
   "metadata": {},
   "outputs": [
    {
     "data": {
      "text/plain": [
       "Pass/Fail\n",
       "1    27656\n",
       "0    11274\n",
       "Name: count, dtype: int64"
      ]
     },
     "execution_count": 18,
     "metadata": {},
     "output_type": "execute_result"
    }
   ],
   "source": [
    "df['Pass/Fail'].value_counts()"
   ]
  },
  {
   "cell_type": "code",
   "execution_count": 19,
   "metadata": {},
   "outputs": [],
   "source": [
    "df = df.drop(['Degree'], axis = 1)"
   ]
  },
  {
   "cell_type": "code",
   "execution_count": 20,
   "metadata": {},
   "outputs": [
    {
     "data": {
      "text/html": [
       "<div>\n",
       "<style scoped>\n",
       "    .dataframe tbody tr th:only-of-type {\n",
       "        vertical-align: middle;\n",
       "    }\n",
       "\n",
       "    .dataframe tbody tr th {\n",
       "        vertical-align: top;\n",
       "    }\n",
       "\n",
       "    .dataframe thead th {\n",
       "        text-align: right;\n",
       "    }\n",
       "</style>\n",
       "<table border=\"1\" class=\"dataframe\">\n",
       "  <thead>\n",
       "    <tr style=\"text-align: right;\">\n",
       "      <th></th>\n",
       "      <th>Gender</th>\n",
       "      <th>Nationality</th>\n",
       "      <th>Class Level</th>\n",
       "      <th>Age</th>\n",
       "      <th>School Type</th>\n",
       "      <th>Main Administration</th>\n",
       "      <th>Candidacy type</th>\n",
       "      <th>Pass/Fail</th>\n",
       "    </tr>\n",
       "  </thead>\n",
       "  <tbody>\n",
       "    <tr>\n",
       "      <th>0</th>\n",
       "      <td>female</td>\n",
       "      <td>Saudi</td>\n",
       "      <td>3</td>\n",
       "      <td>21</td>\n",
       "      <td>Governmental</td>\n",
       "      <td>Riyadh</td>\n",
       "      <td>Self-Candidacy</td>\n",
       "      <td>0</td>\n",
       "    </tr>\n",
       "    <tr>\n",
       "      <th>1</th>\n",
       "      <td>male</td>\n",
       "      <td>Saudi</td>\n",
       "      <td>3</td>\n",
       "      <td>20</td>\n",
       "      <td>Governmental</td>\n",
       "      <td>Unknown</td>\n",
       "      <td>Self-Candidacy</td>\n",
       "      <td>1</td>\n",
       "    </tr>\n",
       "    <tr>\n",
       "      <th>2</th>\n",
       "      <td>female</td>\n",
       "      <td>Saudi</td>\n",
       "      <td>3</td>\n",
       "      <td>19</td>\n",
       "      <td>Governmental</td>\n",
       "      <td>Aseer</td>\n",
       "      <td>Self-Candidacy</td>\n",
       "      <td>1</td>\n",
       "    </tr>\n",
       "    <tr>\n",
       "      <th>3</th>\n",
       "      <td>male</td>\n",
       "      <td>Saudi</td>\n",
       "      <td>3</td>\n",
       "      <td>19</td>\n",
       "      <td>Governmental</td>\n",
       "      <td>Jazan</td>\n",
       "      <td>Self-Candidacy</td>\n",
       "      <td>1</td>\n",
       "    </tr>\n",
       "    <tr>\n",
       "      <th>4</th>\n",
       "      <td>female</td>\n",
       "      <td>Saudi</td>\n",
       "      <td>3</td>\n",
       "      <td>19</td>\n",
       "      <td>Governmental</td>\n",
       "      <td>Eastern</td>\n",
       "      <td>Talented-Candidacy</td>\n",
       "      <td>1</td>\n",
       "    </tr>\n",
       "  </tbody>\n",
       "</table>\n",
       "</div>"
      ],
      "text/plain": [
       "   Gender Nationality  Class Level  Age   School Type Main Administration      Candidacy type  Pass/Fail\n",
       "0  female       Saudi            3   21  Governmental              Riyadh      Self-Candidacy          0\n",
       "1    male       Saudi            3   20  Governmental             Unknown      Self-Candidacy          1\n",
       "2  female       Saudi            3   19  Governmental               Aseer      Self-Candidacy          1\n",
       "3    male       Saudi            3   19  Governmental               Jazan      Self-Candidacy          1\n",
       "4  female       Saudi            3   19  Governmental             Eastern  Talented-Candidacy          1"
      ]
     },
     "execution_count": 20,
     "metadata": {},
     "output_type": "execute_result"
    }
   ],
   "source": [
    "df.head()"
   ]
  },
  {
   "cell_type": "code",
   "execution_count": 21,
   "metadata": {},
   "outputs": [],
   "source": [
    "df['Class Level'] = df['Class Level'].astype('object')"
   ]
  },
  {
   "cell_type": "code",
   "execution_count": 22,
   "metadata": {},
   "outputs": [
    {
     "data": {
      "text/plain": [
       "School Type\n",
       "Governmental    29537\n",
       "Private          8731\n",
       "Foreign           662\n",
       "Name: count, dtype: int64"
      ]
     },
     "execution_count": 22,
     "metadata": {},
     "output_type": "execute_result"
    }
   ],
   "source": [
    "df['School Type'].value_counts()"
   ]
  },
  {
   "cell_type": "code",
   "execution_count": 23,
   "metadata": {},
   "outputs": [],
   "source": [
    "from sklearn.preprocessing import LabelEncoder\n",
    "lbe = LabelEncoder()\n",
    "df['School Type'] = lbe.fit_transform(df['School Type'])"
   ]
  },
  {
   "cell_type": "code",
   "execution_count": 24,
   "metadata": {},
   "outputs": [
    {
     "data": {
      "text/plain": [
       "Main Administration\n",
       "Mecca                10526\n",
       "Eastern               9364\n",
       "Riyadh                5771\n",
       "Aseer                 2931\n",
       "Jazan                 2596\n",
       "Madinah               2236\n",
       "Qaseem                1910\n",
       "Tabuk                  985\n",
       "Bahah                  923\n",
       "Jawf                   632\n",
       "Hudud-Shimaliyyah      426\n",
       "Hail                   339\n",
       "Najran                 191\n",
       "Unknown                100\n",
       "Name: count, dtype: int64"
      ]
     },
     "execution_count": 24,
     "metadata": {},
     "output_type": "execute_result"
    }
   ],
   "source": [
    "df['Main Administration'].value_counts()\n",
    "df['Main Administration'] = lbe.fit_transform(df['Main Administration'])"
   ]
  },
  {
   "cell_type": "code",
   "execution_count": 25,
   "metadata": {},
   "outputs": [
    {
     "name": "stdout",
     "output_type": "stream",
     "text": [
      "<class 'pandas.core.frame.DataFrame'>\n",
      "RangeIndex: 38930 entries, 0 to 38929\n",
      "Data columns (total 8 columns):\n",
      " #   Column               Non-Null Count  Dtype \n",
      "---  ------               --------------  ----- \n",
      " 0   Gender               38930 non-null  object\n",
      " 1   Nationality          38930 non-null  object\n",
      " 2   Class Level          38930 non-null  object\n",
      " 3   Age                  38930 non-null  int64 \n",
      " 4   School Type          38930 non-null  int64 \n",
      " 5   Main Administration  38930 non-null  int64 \n",
      " 6   Candidacy type       38930 non-null  object\n",
      " 7   Pass/Fail            38930 non-null  int64 \n",
      "dtypes: int64(4), object(4)\n",
      "memory usage: 2.4+ MB\n"
     ]
    }
   ],
   "source": [
    "df.info()"
   ]
  },
  {
   "cell_type": "code",
   "execution_count": 26,
   "metadata": {},
   "outputs": [],
   "source": [
    "df = df.sample(frac = 1.0)"
   ]
  },
  {
   "cell_type": "code",
   "execution_count": 27,
   "metadata": {},
   "outputs": [],
   "source": [
    "X = df.drop(['Pass/Fail'], axis = 1)\n",
    "y = df['Pass/Fail']"
   ]
  },
  {
   "cell_type": "code",
   "execution_count": 28,
   "metadata": {},
   "outputs": [
    {
     "data": {
      "text/html": [
       "<div>\n",
       "<style scoped>\n",
       "    .dataframe tbody tr th:only-of-type {\n",
       "        vertical-align: middle;\n",
       "    }\n",
       "\n",
       "    .dataframe tbody tr th {\n",
       "        vertical-align: top;\n",
       "    }\n",
       "\n",
       "    .dataframe thead th {\n",
       "        text-align: right;\n",
       "    }\n",
       "</style>\n",
       "<table border=\"1\" class=\"dataframe\">\n",
       "  <thead>\n",
       "    <tr style=\"text-align: right;\">\n",
       "      <th></th>\n",
       "      <th>Age</th>\n",
       "      <th>School Type</th>\n",
       "      <th>Main Administration</th>\n",
       "      <th>Gender_female</th>\n",
       "      <th>Gender_male</th>\n",
       "      <th>Nationality_Non-Saudi</th>\n",
       "      <th>Nationality_Saudi</th>\n",
       "      <th>Class Level_1</th>\n",
       "      <th>Class Level_2</th>\n",
       "      <th>Class Level_3</th>\n",
       "      <th>Candidacy type_Self-Candidacy</th>\n",
       "      <th>Candidacy type_Talented-Candidacy</th>\n",
       "    </tr>\n",
       "  </thead>\n",
       "  <tbody>\n",
       "    <tr>\n",
       "      <th>19460</th>\n",
       "      <td>14</td>\n",
       "      <td>1</td>\n",
       "      <td>10</td>\n",
       "      <td>True</td>\n",
       "      <td>False</td>\n",
       "      <td>False</td>\n",
       "      <td>True</td>\n",
       "      <td>False</td>\n",
       "      <td>True</td>\n",
       "      <td>False</td>\n",
       "      <td>True</td>\n",
       "      <td>False</td>\n",
       "    </tr>\n",
       "    <tr>\n",
       "      <th>19338</th>\n",
       "      <td>14</td>\n",
       "      <td>1</td>\n",
       "      <td>8</td>\n",
       "      <td>True</td>\n",
       "      <td>False</td>\n",
       "      <td>False</td>\n",
       "      <td>True</td>\n",
       "      <td>False</td>\n",
       "      <td>True</td>\n",
       "      <td>False</td>\n",
       "      <td>False</td>\n",
       "      <td>True</td>\n",
       "    </tr>\n",
       "    <tr>\n",
       "      <th>11062</th>\n",
       "      <td>17</td>\n",
       "      <td>1</td>\n",
       "      <td>2</td>\n",
       "      <td>True</td>\n",
       "      <td>False</td>\n",
       "      <td>False</td>\n",
       "      <td>True</td>\n",
       "      <td>False</td>\n",
       "      <td>False</td>\n",
       "      <td>True</td>\n",
       "      <td>False</td>\n",
       "      <td>True</td>\n",
       "    </tr>\n",
       "    <tr>\n",
       "      <th>35831</th>\n",
       "      <td>11</td>\n",
       "      <td>1</td>\n",
       "      <td>10</td>\n",
       "      <td>True</td>\n",
       "      <td>False</td>\n",
       "      <td>False</td>\n",
       "      <td>True</td>\n",
       "      <td>True</td>\n",
       "      <td>False</td>\n",
       "      <td>False</td>\n",
       "      <td>True</td>\n",
       "      <td>False</td>\n",
       "    </tr>\n",
       "    <tr>\n",
       "      <th>19125</th>\n",
       "      <td>14</td>\n",
       "      <td>1</td>\n",
       "      <td>4</td>\n",
       "      <td>True</td>\n",
       "      <td>False</td>\n",
       "      <td>False</td>\n",
       "      <td>True</td>\n",
       "      <td>False</td>\n",
       "      <td>True</td>\n",
       "      <td>False</td>\n",
       "      <td>False</td>\n",
       "      <td>True</td>\n",
       "    </tr>\n",
       "  </tbody>\n",
       "</table>\n",
       "</div>"
      ],
      "text/plain": [
       "       Age  School Type  Main Administration  Gender_female  Gender_male  Nationality_Non-Saudi  Nationality_Saudi  Class Level_1  Class Level_2  Class Level_3  Candidacy type_Self-Candidacy  Candidacy type_Talented-Candidacy\n",
       "19460   14            1                   10           True        False                  False               True          False           True          False                           True                              False\n",
       "19338   14            1                    8           True        False                  False               True          False           True          False                          False                               True\n",
       "11062   17            1                    2           True        False                  False               True          False          False           True                          False                               True\n",
       "35831   11            1                   10           True        False                  False               True           True          False          False                           True                              False\n",
       "19125   14            1                    4           True        False                  False               True          False           True          False                          False                               True"
      ]
     },
     "execution_count": 28,
     "metadata": {},
     "output_type": "execute_result"
    }
   ],
   "source": [
    "X = pd.get_dummies(X)\n",
    "X.head()"
   ]
  },
  {
   "cell_type": "code",
   "execution_count": 29,
   "metadata": {},
   "outputs": [],
   "source": [
    "from sklearn.preprocessing import MinMaxScaler, StandardScaler\n",
    "ss = MinMaxScaler(feature_range=(0,1))\n",
    "X['Age'] = ss.fit_transform(np.array(X['Age']).reshape(-1, 1))"
   ]
  },
  {
   "cell_type": "code",
   "execution_count": 30,
   "metadata": {},
   "outputs": [],
   "source": [
    "finalDF = pd.concat([X,y],axis = 1)\n",
    "finalDF.to_csv('finalDf_v2.csv', index = False)"
   ]
  },
  {
   "cell_type": "code",
   "execution_count": 31,
   "metadata": {},
   "outputs": [
    {
     "data": {
      "text/html": [
       "<div>\n",
       "<style scoped>\n",
       "    .dataframe tbody tr th:only-of-type {\n",
       "        vertical-align: middle;\n",
       "    }\n",
       "\n",
       "    .dataframe tbody tr th {\n",
       "        vertical-align: top;\n",
       "    }\n",
       "\n",
       "    .dataframe thead th {\n",
       "        text-align: right;\n",
       "    }\n",
       "</style>\n",
       "<table border=\"1\" class=\"dataframe\">\n",
       "  <thead>\n",
       "    <tr style=\"text-align: right;\">\n",
       "      <th></th>\n",
       "      <th>Age</th>\n",
       "      <th>School Type</th>\n",
       "      <th>Main Administration</th>\n",
       "      <th>Gender_female</th>\n",
       "      <th>Gender_male</th>\n",
       "      <th>Nationality_Non-Saudi</th>\n",
       "      <th>Nationality_Saudi</th>\n",
       "      <th>Class Level_1</th>\n",
       "      <th>Class Level_2</th>\n",
       "      <th>Class Level_3</th>\n",
       "      <th>Candidacy type_Self-Candidacy</th>\n",
       "      <th>Candidacy type_Talented-Candidacy</th>\n",
       "    </tr>\n",
       "  </thead>\n",
       "  <tbody>\n",
       "    <tr>\n",
       "      <th>19460</th>\n",
       "      <td>0.363636</td>\n",
       "      <td>1</td>\n",
       "      <td>10</td>\n",
       "      <td>True</td>\n",
       "      <td>False</td>\n",
       "      <td>False</td>\n",
       "      <td>True</td>\n",
       "      <td>False</td>\n",
       "      <td>True</td>\n",
       "      <td>False</td>\n",
       "      <td>True</td>\n",
       "      <td>False</td>\n",
       "    </tr>\n",
       "    <tr>\n",
       "      <th>19338</th>\n",
       "      <td>0.363636</td>\n",
       "      <td>1</td>\n",
       "      <td>8</td>\n",
       "      <td>True</td>\n",
       "      <td>False</td>\n",
       "      <td>False</td>\n",
       "      <td>True</td>\n",
       "      <td>False</td>\n",
       "      <td>True</td>\n",
       "      <td>False</td>\n",
       "      <td>False</td>\n",
       "      <td>True</td>\n",
       "    </tr>\n",
       "    <tr>\n",
       "      <th>11062</th>\n",
       "      <td>0.636364</td>\n",
       "      <td>1</td>\n",
       "      <td>2</td>\n",
       "      <td>True</td>\n",
       "      <td>False</td>\n",
       "      <td>False</td>\n",
       "      <td>True</td>\n",
       "      <td>False</td>\n",
       "      <td>False</td>\n",
       "      <td>True</td>\n",
       "      <td>False</td>\n",
       "      <td>True</td>\n",
       "    </tr>\n",
       "    <tr>\n",
       "      <th>35831</th>\n",
       "      <td>0.090909</td>\n",
       "      <td>1</td>\n",
       "      <td>10</td>\n",
       "      <td>True</td>\n",
       "      <td>False</td>\n",
       "      <td>False</td>\n",
       "      <td>True</td>\n",
       "      <td>True</td>\n",
       "      <td>False</td>\n",
       "      <td>False</td>\n",
       "      <td>True</td>\n",
       "      <td>False</td>\n",
       "    </tr>\n",
       "    <tr>\n",
       "      <th>19125</th>\n",
       "      <td>0.363636</td>\n",
       "      <td>1</td>\n",
       "      <td>4</td>\n",
       "      <td>True</td>\n",
       "      <td>False</td>\n",
       "      <td>False</td>\n",
       "      <td>True</td>\n",
       "      <td>False</td>\n",
       "      <td>True</td>\n",
       "      <td>False</td>\n",
       "      <td>False</td>\n",
       "      <td>True</td>\n",
       "    </tr>\n",
       "    <tr>\n",
       "      <th>...</th>\n",
       "      <td>...</td>\n",
       "      <td>...</td>\n",
       "      <td>...</td>\n",
       "      <td>...</td>\n",
       "      <td>...</td>\n",
       "      <td>...</td>\n",
       "      <td>...</td>\n",
       "      <td>...</td>\n",
       "      <td>...</td>\n",
       "      <td>...</td>\n",
       "      <td>...</td>\n",
       "      <td>...</td>\n",
       "    </tr>\n",
       "    <tr>\n",
       "      <th>5589</th>\n",
       "      <td>0.636364</td>\n",
       "      <td>1</td>\n",
       "      <td>7</td>\n",
       "      <td>True</td>\n",
       "      <td>False</td>\n",
       "      <td>False</td>\n",
       "      <td>True</td>\n",
       "      <td>False</td>\n",
       "      <td>False</td>\n",
       "      <td>True</td>\n",
       "      <td>True</td>\n",
       "      <td>False</td>\n",
       "    </tr>\n",
       "    <tr>\n",
       "      <th>401</th>\n",
       "      <td>0.727273</td>\n",
       "      <td>1</td>\n",
       "      <td>8</td>\n",
       "      <td>True</td>\n",
       "      <td>False</td>\n",
       "      <td>False</td>\n",
       "      <td>True</td>\n",
       "      <td>False</td>\n",
       "      <td>False</td>\n",
       "      <td>True</td>\n",
       "      <td>True</td>\n",
       "      <td>False</td>\n",
       "    </tr>\n",
       "    <tr>\n",
       "      <th>10059</th>\n",
       "      <td>0.545455</td>\n",
       "      <td>2</td>\n",
       "      <td>11</td>\n",
       "      <td>False</td>\n",
       "      <td>True</td>\n",
       "      <td>False</td>\n",
       "      <td>True</td>\n",
       "      <td>False</td>\n",
       "      <td>False</td>\n",
       "      <td>True</td>\n",
       "      <td>True</td>\n",
       "      <td>False</td>\n",
       "    </tr>\n",
       "    <tr>\n",
       "      <th>3296</th>\n",
       "      <td>0.636364</td>\n",
       "      <td>1</td>\n",
       "      <td>2</td>\n",
       "      <td>True</td>\n",
       "      <td>False</td>\n",
       "      <td>False</td>\n",
       "      <td>True</td>\n",
       "      <td>False</td>\n",
       "      <td>False</td>\n",
       "      <td>True</td>\n",
       "      <td>False</td>\n",
       "      <td>True</td>\n",
       "    </tr>\n",
       "    <tr>\n",
       "      <th>31502</th>\n",
       "      <td>0.090909</td>\n",
       "      <td>1</td>\n",
       "      <td>2</td>\n",
       "      <td>True</td>\n",
       "      <td>False</td>\n",
       "      <td>False</td>\n",
       "      <td>True</td>\n",
       "      <td>True</td>\n",
       "      <td>False</td>\n",
       "      <td>False</td>\n",
       "      <td>True</td>\n",
       "      <td>False</td>\n",
       "    </tr>\n",
       "  </tbody>\n",
       "</table>\n",
       "<p>38930 rows × 12 columns</p>\n",
       "</div>"
      ],
      "text/plain": [
       "            Age  School Type  Main Administration  Gender_female  Gender_male  Nationality_Non-Saudi  Nationality_Saudi  Class Level_1  Class Level_2  Class Level_3  Candidacy type_Self-Candidacy  Candidacy type_Talented-Candidacy\n",
       "19460  0.363636            1                   10           True        False                  False               True          False           True          False                           True                              False\n",
       "19338  0.363636            1                    8           True        False                  False               True          False           True          False                          False                               True\n",
       "11062  0.636364            1                    2           True        False                  False               True          False          False           True                          False                               True\n",
       "35831  0.090909            1                   10           True        False                  False               True           True          False          False                           True                              False\n",
       "19125  0.363636            1                    4           True        False                  False               True          False           True          False                          False                               True\n",
       "...         ...          ...                  ...            ...          ...                    ...                ...            ...            ...            ...                            ...                                ...\n",
       "5589   0.636364            1                    7           True        False                  False               True          False          False           True                           True                              False\n",
       "401    0.727273            1                    8           True        False                  False               True          False          False           True                           True                              False\n",
       "10059  0.545455            2                   11          False         True                  False               True          False          False           True                           True                              False\n",
       "3296   0.636364            1                    2           True        False                  False               True          False          False           True                          False                               True\n",
       "31502  0.090909            1                    2           True        False                  False               True           True          False          False                           True                              False\n",
       "\n",
       "[38930 rows x 12 columns]"
      ]
     },
     "execution_count": 31,
     "metadata": {},
     "output_type": "execute_result"
    }
   ],
   "source": [
    "X"
   ]
  },
  {
   "cell_type": "code",
   "execution_count": null,
   "metadata": {},
   "outputs": [],
   "source": []
  }
 ],
 "metadata": {
  "kernelspec": {
   "display_name": "Python 3",
   "language": "python",
   "name": "python3"
  },
  "language_info": {
   "codemirror_mode": {
    "name": "ipython",
    "version": 3
   },
   "file_extension": ".py",
   "mimetype": "text/x-python",
   "name": "python",
   "nbconvert_exporter": "python",
   "pygments_lexer": "ipython3",
   "version": "3.12.4"
  }
 },
 "nbformat": 4,
 "nbformat_minor": 2
}
